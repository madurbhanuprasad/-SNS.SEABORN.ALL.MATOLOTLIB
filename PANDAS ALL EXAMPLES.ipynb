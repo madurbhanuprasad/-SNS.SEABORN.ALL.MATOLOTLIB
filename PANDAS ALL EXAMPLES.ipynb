{
 "cells": [
  {
   "cell_type": "code",
   "execution_count": null,
   "id": "02619526",
   "metadata": {},
   "outputs": [],
   "source": [
    "Handling Missing Data:\n",
    "\n",
    "df.isnull(): Check for missing values in the DataFrame.\n",
    "df.dropna(): Drop rows with missing values.\n",
    "df.fillna(value): Fill missing values with a specified value.\n",
    "df.interpolate(): Interpolate missing values based on neighboring values."
   ]
  },
  {
   "cell_type": "code",
   "execution_count": 1,
   "id": "843dbe65",
   "metadata": {},
   "outputs": [
    {
     "name": "stdout",
     "output_type": "stream",
     "text": [
      "       A      B\n",
      "0  False  False\n",
      "1  False   True\n",
      "2   True  False\n",
      "3  False  False\n"
     ]
    }
   ],
   "source": [
    "import pandas as pd\n",
    "\n",
    "data = {'A': [1, 2, None, 4],\n",
    "        'B': [5, None, 7, 8]}\n",
    "\n",
    "df = pd.DataFrame(data)\n",
    "\n",
    "# Check for missing values in the DataFrame\n",
    "missing_values = df.isnull()\n",
    "print(missing_values)\n"
   ]
  },
  {
   "cell_type": "code",
   "execution_count": 2,
   "id": "a1b38f3c",
   "metadata": {},
   "outputs": [
    {
     "name": "stdout",
     "output_type": "stream",
     "text": [
      "     A    B\n",
      "0  1.0  5.0\n",
      "3  4.0  8.0\n"
     ]
    }
   ],
   "source": [
    "import pandas as pd\n",
    "\n",
    "data = {'A': [1, 2, None, 4],\n",
    "        'B': [5, None, 7, 8]}\n",
    "\n",
    "df = pd.DataFrame(data)\n",
    "\n",
    "# Drop rows with missing values\n",
    "df_dropped = df.dropna()\n",
    "print(df_dropped)\n"
   ]
  },
  {
   "cell_type": "code",
   "execution_count": 3,
   "id": "e5273f5e",
   "metadata": {},
   "outputs": [
    {
     "name": "stdout",
     "output_type": "stream",
     "text": [
      "     A    B\n",
      "0  1.0  5.0\n",
      "1  2.0  0.0\n",
      "2  0.0  7.0\n",
      "3  4.0  8.0\n"
     ]
    }
   ],
   "source": [
    "import pandas as pd\n",
    "\n",
    "data = {'A': [1, 2, None, 4],\n",
    "        'B': [5, None, 7, 8]}\n",
    "\n",
    "df = pd.DataFrame(data)\n",
    "\n",
    "# Fill missing values with a specified value\n",
    "df_filled = df.fillna(0)\n",
    "print(df_filled)\n"
   ]
  },
  {
   "cell_type": "code",
   "execution_count": 4,
   "id": "376a96e1",
   "metadata": {},
   "outputs": [
    {
     "name": "stdout",
     "output_type": "stream",
     "text": [
      "     A    B\n",
      "0  1.0  5.0\n",
      "1  2.0  6.0\n",
      "2  3.0  7.0\n",
      "3  4.0  8.0\n"
     ]
    }
   ],
   "source": [
    "import pandas as pd\n",
    "\n",
    "data = {'A': [1, 2, None, 4],\n",
    "        'B': [5, None, 7, 8]}\n",
    "\n",
    "df = pd.DataFrame(data)\n",
    "\n",
    "# Interpolate missing values based on neighboring values\n",
    "df_interpolated = df.interpolate()\n",
    "print(df_interpolated)\n"
   ]
  },
  {
   "cell_type": "code",
   "execution_count": null,
   "id": "67b96e7d",
   "metadata": {},
   "outputs": [],
   "source": [
    "Removing Duplicates:\n",
    "\n",
    "df.duplicated(): Check for duplicate rows.\n",
    "df.drop_duplicates(): Remove duplicate rows."
   ]
  },
  {
   "cell_type": "code",
   "execution_count": 6,
   "id": "63d0525e",
   "metadata": {},
   "outputs": [
    {
     "name": "stdout",
     "output_type": "stream",
     "text": [
      "0    False\n",
      "1    False\n",
      "2     True\n",
      "3    False\n",
      "4    False\n",
      "dtype: bool\n",
      "   A  B\n",
      "0  1  x\n",
      "1  2  y\n",
      "2  2  y\n",
      "3  3  z\n",
      "4  4  z\n"
     ]
    }
   ],
   "source": [
    "import pandas as pd\n",
    "\n",
    "data = {'A': [1, 2, 2, 3, 4],\n",
    "        'B': ['x', 'y', 'y', 'z', 'z']}\n",
    "\n",
    "df = pd.DataFrame(data)\n",
    "\n",
    "# Check for duplicate rows in the DataFrame\n",
    "duplicates = df.duplicated()\n",
    "print(duplicates)\n",
    "print(df)"
   ]
  },
  {
   "cell_type": "code",
   "execution_count": 7,
   "id": "14d6ea71",
   "metadata": {},
   "outputs": [
    {
     "name": "stdout",
     "output_type": "stream",
     "text": [
      "   A  B\n",
      "0  1  x\n",
      "1  2  y\n",
      "3  3  z\n",
      "4  4  z\n"
     ]
    }
   ],
   "source": [
    "import pandas as pd\n",
    "\n",
    "data = {'A': [1, 2, 2, 3, 4],\n",
    "        'B': ['x', 'y', 'y', 'z', 'z']}\n",
    "\n",
    "df = pd.DataFrame(data)\n",
    "\n",
    "# Remove duplicate rows from the DataFrame\n",
    "df_no_duplicates = df.drop_duplicates()\n",
    "print(df_no_duplicates)\n"
   ]
  },
  {
   "cell_type": "code",
   "execution_count": null,
   "id": "33c77606",
   "metadata": {},
   "outputs": [],
   "source": [
    "#Data Transformation:\n",
    "\n",
    "#df.rename(columns={'old_name': 'new_name'}): Rename columns.\n",
    "#df.drop(columns=['col_name']): Drop columns.\n",
    "#df.replace(old_value, new_value): Replace specific values.\n",
    "#df.apply(func): Apply a function to rows or columns.\n",
    "#df.groupby('col_name').agg(func): Group data and apply "
   ]
  },
  {
   "cell_type": "code",
   "execution_count": 8,
   "id": "7f55d294",
   "metadata": {},
   "outputs": [
    {
     "name": "stdout",
     "output_type": "stream",
     "text": [
      "   New_Column New_Column2\n",
      "0           1           x\n",
      "1           2           y\n",
      "2           3           z\n"
     ]
    }
   ],
   "source": [
    "import pandas as pd\n",
    "\n",
    "data = {'Old_Column': [1, 2, 3],\n",
    "        'Another_Column': ['x', 'y', 'z']}\n",
    "\n",
    "df = pd.DataFrame(data)\n",
    "\n",
    "# Rename columns\n",
    "df_renamed = df.rename(columns={'Old_Column': 'New_Column', 'Another_Column': 'New_Column2'})\n",
    "print(df_renamed)\n"
   ]
  },
  {
   "cell_type": "code",
   "execution_count": 9,
   "id": "2e640eb0",
   "metadata": {},
   "outputs": [
    {
     "name": "stdout",
     "output_type": "stream",
     "text": [
      "   A\n",
      "0  1\n",
      "1  2\n",
      "2  3\n"
     ]
    }
   ],
   "source": [
    "import pandas as pd\n",
    "\n",
    "data = {'A': [1, 2, 3],\n",
    "        'B': ['x', 'y', 'z']}\n",
    "\n",
    "df = pd.DataFrame(data)\n",
    "\n",
    "# Drop columns\n",
    "df_dropped = df.drop(columns=['B'])\n",
    "print(df_dropped)\n"
   ]
  },
  {
   "cell_type": "code",
   "execution_count": 10,
   "id": "679897ac",
   "metadata": {},
   "outputs": [
    {
     "name": "stdout",
     "output_type": "stream",
     "text": [
      "   A            B\n",
      "0  1  replacement\n",
      "1  2            y\n",
      "2  3            z\n",
      "3  4            y\n",
      "4  5  replacement\n"
     ]
    }
   ],
   "source": [
    "import pandas as pd\n",
    "\n",
    "data = {'A': [1, 2, 3, 4, 5],\n",
    "        'B': ['x', 'y', 'z', 'y', 'x']}\n",
    "\n",
    "df = pd.DataFrame(data)\n",
    "\n",
    "# Replace specific values in a column\n",
    "df_replaced = df.replace('x', 'replacement')\n",
    "print(df_replaced)\n"
   ]
  },
  {
   "cell_type": "code",
   "execution_count": 11,
   "id": "e6e302a1",
   "metadata": {},
   "outputs": [
    {
     "name": "stdout",
     "output_type": "stream",
     "text": [
      "   A  B  B_squared\n",
      "0  1  4         16\n",
      "1  2  5         25\n",
      "2  3  6         36\n"
     ]
    }
   ],
   "source": [
    "import pandas as pd\n",
    "\n",
    "data = {'A': [1, 2, 3],\n",
    "        'B': [4, 5, 6]}\n",
    "\n",
    "df = pd.DataFrame(data)\n",
    "\n",
    "# Apply a function to a column\n",
    "def square(x):\n",
    "    return x ** 2\n",
    "\n",
    "df['B_squared'] = df['B'].apply(square)\n",
    "print(df)\n"
   ]
  },
  {
   "cell_type": "code",
   "execution_count": 12,
   "id": "20ec4067",
   "metadata": {},
   "outputs": [
    {
     "name": "stdout",
     "output_type": "stream",
     "text": [
      "          Value\n",
      "Category       \n",
      "A            37\n",
      "B            45\n"
     ]
    }
   ],
   "source": [
    "import pandas as pd\n",
    "\n",
    "data = {'Category': ['A', 'B', 'A', 'B', 'A'],\n",
    "        'Value': [10, 20, 15, 25, 12]}\n",
    "\n",
    "df = pd.DataFrame(data)\n",
    "\n",
    "# Group data by 'Category' and calculate the sum of 'Value' for each group\n",
    "grouped_df = df.groupby('Category').agg(sum)\n",
    "print(grouped_df)\n"
   ]
  },
  {
   "cell_type": "code",
   "execution_count": 13,
   "id": "1615b54b",
   "metadata": {},
   "outputs": [],
   "source": [
    "#Data Type Conversion:\n",
    "\n",
    "#df.astype({'col_name': 'new_dtype'}): Convert data types of specific columns.\n",
    "#pd.to_datetime(df['date_col']): Convert a column to datetime format."
   ]
  },
  {
   "cell_type": "code",
   "execution_count": 14,
   "id": "3aaf403d",
   "metadata": {},
   "outputs": [
    {
     "name": "stdout",
     "output_type": "stream",
     "text": [
      "A    float64\n",
      "B     object\n",
      "dtype: object\n"
     ]
    }
   ],
   "source": [
    "import pandas as pd\n",
    "\n",
    "data = {'A': [1, 2, 3],\n",
    "        'B': ['x', 'y', 'z']}\n",
    "\n",
    "df = pd.DataFrame(data)\n",
    "\n",
    "# Convert data types of specific columns\n",
    "df_converted = df.astype({'A': float})\n",
    "print(df_converted.dtypes)\n"
   ]
  },
  {
   "cell_type": "code",
   "execution_count": 15,
   "id": "1e706b71",
   "metadata": {},
   "outputs": [
    {
     "name": "stdout",
     "output_type": "stream",
     "text": [
      "Date     datetime64[ns]\n",
      "Value             int64\n",
      "dtype: object\n"
     ]
    }
   ],
   "source": [
    "import pandas as pd\n",
    "\n",
    "data = {'Date': ['2022-01-01', '2022-01-02', '2022-01-03'],\n",
    "        'Value': [10, 20, 30]}\n",
    "\n",
    "df = pd.DataFrame(data)\n",
    "\n",
    "# Convert a column to datetime format\n",
    "df['Date'] = pd.to_datetime(df['Date'])\n",
    "print(df.dtypes)\n"
   ]
  },
  {
   "cell_type": "code",
   "execution_count": 16,
   "id": "45f0e42d",
   "metadata": {},
   "outputs": [],
   "source": [
    "#String Cleaning:\n",
    "\n",
    "#df['col_name'].str.replace(old_str, new_str): Replace substrings in string columns.\n",
    "#df['col_name'].str.strip(): Remove leading and trailing whitespace.\n",
    "#df['col_name'].str.lower(): Convert strings to lowercase"
   ]
  },
  {
   "cell_type": "code",
   "execution_count": 17,
   "id": "76e95401",
   "metadata": {},
   "outputs": [
    {
     "name": "stdout",
     "output_type": "stream",
     "text": [
      "            Name         City\n",
      "0     John Smith     New_York\n",
      "1       Jane Doe  Los_Angeles\n",
      "2  Alice Johnson      Chicago\n"
     ]
    }
   ],
   "source": [
    "import pandas as pd\n",
    "\n",
    "data = {'Name': ['John Smith', 'Jane Doe', 'Alice Johnson'],\n",
    "        'City': ['New York', 'Los Angeles', 'Chicago']}\n",
    "\n",
    "df = pd.DataFrame(data)\n",
    "\n",
    "# Replace substrings in string columns\n",
    "df['City'] = df['City'].str.replace(' ', '_')\n",
    "print(df)\n"
   ]
  },
  {
   "cell_type": "code",
   "execution_count": 18,
   "id": "f581e1e6",
   "metadata": {},
   "outputs": [
    {
     "name": "stdout",
     "output_type": "stream",
     "text": [
      "            Name\n",
      "0     John Smith\n",
      "1       Jane Doe\n",
      "2  Alice Johnson\n"
     ]
    }
   ],
   "source": [
    "import pandas as pd\n",
    "\n",
    "data = {'Name': ['  John Smith  ', '  Jane Doe  ', '  Alice Johnson  ']}\n",
    "\n",
    "df = pd.DataFrame(data)\n",
    "\n",
    "# Remove leading and trailing whitespace\n",
    "df['Name'] = df['Name'].str.strip()\n",
    "print(df)\n"
   ]
  },
  {
   "cell_type": "code",
   "execution_count": 19,
   "id": "19aa5cac",
   "metadata": {},
   "outputs": [
    {
     "name": "stdout",
     "output_type": "stream",
     "text": [
      "            Name\n",
      "0     john smith\n",
      "1       jane doe\n",
      "2  alice johnson\n"
     ]
    }
   ],
   "source": [
    "import pandas as pd\n",
    "\n",
    "data = {'Name': ['John Smith', 'Jane Doe', 'Alice Johnson']}\n",
    "\n",
    "df = pd.DataFrame(data)\n",
    "\n",
    "# Convert strings to lowercase\n",
    "df['Name'] = df['Name'].str.lower()\n",
    "print(df)\n"
   ]
  },
  {
   "cell_type": "code",
   "execution_count": null,
   "id": "cce337f5",
   "metadata": {},
   "outputs": [],
   "source": [
    "#Handling Outliers:\n",
    "\n",
    "#df['col_name'].clip(lower, upper): Clip outliers within a specified range.\n",
    "#df['col_name'].apply(lambda x: x if x < upper else np.nan): Replace outliers with NaN."
   ]
  },
  {
   "cell_type": "code",
   "execution_count": 20,
   "id": "0d5bac52",
   "metadata": {},
   "outputs": [
    {
     "name": "stdout",
     "output_type": "stream",
     "text": [
      "   Score  Score_clipped\n",
      "0     90            100\n",
      "1    110            110\n",
      "2     95            100\n",
      "3    120            110\n",
      "4     85            100\n"
     ]
    }
   ],
   "source": [
    "import pandas as pd\n",
    "\n",
    "data = {'Score': [90, 110, 95, 120, 85]}\n",
    "\n",
    "df = pd.DataFrame(data)\n",
    "\n",
    "# Clip outliers within a specified range\n",
    "df['Score_clipped'] = df['Score'].clip(lower=100, upper=110)\n",
    "print(df)\n"
   ]
  },
  {
   "cell_type": "code",
   "execution_count": 21,
   "id": "1417821c",
   "metadata": {},
   "outputs": [
    {
     "name": "stdout",
     "output_type": "stream",
     "text": [
      "   Score  Score_replaced\n",
      "0     90            90.0\n",
      "1    110             NaN\n",
      "2     95            95.0\n",
      "3    120             NaN\n",
      "4     85            85.0\n"
     ]
    }
   ],
   "source": [
    "import pandas as pd\n",
    "import numpy as np\n",
    "\n",
    "data = {'Score': [90, 110, 95, 120, 85]}\n",
    "\n",
    "df = pd.DataFrame(data)\n",
    "\n",
    "# Replace outliers with NaN\n",
    "upper_threshold = 100\n",
    "df['Score_replaced'] = df['Score'].apply(lambda x: x if x < upper_threshold else np.nan)\n",
    "print(df)\n"
   ]
  },
  {
   "cell_type": "code",
   "execution_count": null,
   "id": "d1913685",
   "metadata": {},
   "outputs": [],
   "source": [
    "#Reshaping Data:\n",
    "\n",
    "#pd.melt(df, id_vars=['col1'], value_vars=['col2']): Convert wide data to long format.\n",
    "#df.pivot_table(index='index_col', columns='col_name', values='value_col'): Create a pivot table."
   ]
  },
  {
   "cell_type": "code",
   "execution_count": 22,
   "id": "02b83f8a",
   "metadata": {},
   "outputs": [
    {
     "name": "stdout",
     "output_type": "stream",
     "text": [
      "    Name  Subject  Score\n",
      "0   John     Math     90\n",
      "1   Jane     Math     85\n",
      "2  Alice     Math     95\n",
      "3   John  Science     88\n",
      "4   Jane  Science     92\n",
      "5  Alice  Science     90\n"
     ]
    }
   ],
   "source": [
    "import pandas as pd\n",
    "\n",
    "data = {'Name': ['John', 'Jane', 'Alice'],\n",
    "        'Math': [90, 85, 95],\n",
    "        'Science': [88, 92, 90]}\n",
    "\n",
    "df = pd.DataFrame(data)\n",
    "\n",
    "# Convert wide data to long format using pd.melt()\n",
    "df_melted = pd.melt(df, id_vars=['Name'], value_vars=['Math', 'Science'], var_name='Subject', value_name='Score')\n",
    "print(df_melted)\n"
   ]
  },
  {
   "cell_type": "code",
   "execution_count": 23,
   "id": "db7ef2c6",
   "metadata": {},
   "outputs": [
    {
     "name": "stdout",
     "output_type": "stream",
     "text": [
      "Subject  Math  Science\n",
      "Name                  \n",
      "Alice      95       90\n",
      "Jane       85       92\n",
      "John       90       88\n"
     ]
    }
   ],
   "source": [
    "import pandas as pd\n",
    "\n",
    "data = {'Name': ['John', 'Jane', 'Alice', 'John', 'Jane', 'Alice'],\n",
    "        'Subject': ['Math', 'Math', 'Math', 'Science', 'Science', 'Science'],\n",
    "        'Score': [90, 85, 95, 88, 92, 90]}\n",
    "\n",
    "df = pd.DataFrame(data)\n",
    "\n",
    "# Create a pivot table\n",
    "pivot_table = df.pivot_table(index='Name', columns='Subject', values='Score', aggfunc='mean')\n",
    "print(pivot_table)\n"
   ]
  },
  {
   "cell_type": "code",
   "execution_count": null,
   "id": "4fd439f7",
   "metadata": {},
   "outputs": [],
   "source": [
    "#Data Validation:\n",
    "\n",
    "#df['col_name'].str.isnumeric(): Check if values are numeric.\n",
    "#df['col_name'].isin(['value1', 'value2']): Check if values are in a specific list."
   ]
  },
  {
   "cell_type": "code",
   "execution_count": 24,
   "id": "a6f8e5e1",
   "metadata": {},
   "outputs": [
    {
     "name": "stdout",
     "output_type": "stream",
     "text": [
      "       Age  Is_Numeric\n",
      "0       25        True\n",
      "1       30        True\n",
      "2       40        True\n",
      "3  invalid       False\n",
      "4       28        True\n"
     ]
    }
   ],
   "source": [
    "import pandas as pd\n",
    "\n",
    "data = {'Age': ['25', '30', '40', 'invalid', '28']}\n",
    "\n",
    "df = pd.DataFrame(data)\n",
    "\n",
    "# Check if values in 'Age' column are numeric\n",
    "df['Is_Numeric'] = df['Age'].str.isnumeric()\n",
    "print(df)\n"
   ]
  },
  {
   "cell_type": "code",
   "execution_count": 25,
   "id": "de4c8368",
   "metadata": {},
   "outputs": [
    {
     "name": "stdout",
     "output_type": "stream",
     "text": [
      "  Category  Is_Valid_Category\n",
      "0        A               True\n",
      "1        B               True\n",
      "2        C              False\n",
      "3        B               True\n",
      "4        A               True\n"
     ]
    }
   ],
   "source": [
    "import pandas as pd\n",
    "\n",
    "data = {'Category': ['A', 'B', 'C', 'B', 'A']}\n",
    "\n",
    "df = pd.DataFrame(data)\n",
    "\n",
    "# Check if values in 'Category' column are in a specific list\n",
    "valid_categories = ['A', 'B']\n",
    "df['Is_Valid_Category'] = df['Category'].isin(valid_categories)\n",
    "print(df)\n"
   ]
  },
  {
   "cell_type": "code",
   "execution_count": null,
   "id": "731821e8",
   "metadata": {},
   "outputs": [],
   "source": [
    "#Datetime Handling:\n",
    "\n",
    "#df['date_col'] = pd.to_datetime(df['date_col']): Convert a column to datetime format.\n",
    "#df['date_col'].dt.year: Extract year from datetime column.\n",
    "#df['date_col'].dt.month: Extract month from datetime column."
   ]
  },
  {
   "cell_type": "code",
   "execution_count": 26,
   "id": "3f225141",
   "metadata": {},
   "outputs": [
    {
     "name": "stdout",
     "output_type": "stream",
     "text": [
      "Date     datetime64[ns]\n",
      "Value             int64\n",
      "dtype: object\n"
     ]
    }
   ],
   "source": [
    "import pandas as pd\n",
    "\n",
    "data = {'Date': ['2022-01-01', '2022-01-02', '2022-01-03'],\n",
    "        'Value': [10, 20, 30]}\n",
    "\n",
    "df = pd.DataFrame(data)\n",
    "\n",
    "# Convert 'Date' column to datetime format\n",
    "df['Date'] = pd.to_datetime(df['Date'])\n",
    "print(df.dtypes)\n"
   ]
  },
  {
   "cell_type": "code",
   "execution_count": 27,
   "id": "ae088f58",
   "metadata": {},
   "outputs": [
    {
     "name": "stdout",
     "output_type": "stream",
     "text": [
      "        Date  Value  Year  Month\n",
      "0 2022-01-01     10  2022      1\n",
      "1 2022-02-15     20  2022      2\n",
      "2 2022-03-20     30  2022      3\n"
     ]
    }
   ],
   "source": [
    "import pandas as pd\n",
    "\n",
    "data = {'Date': ['2022-01-01', '2022-02-15', '2022-03-20'],\n",
    "        'Value': [10, 20, 30]}\n",
    "\n",
    "df = pd.DataFrame(data)\n",
    "\n",
    "# Convert 'Date' column to datetime format\n",
    "df['Date'] = pd.to_datetime(df['Date'])\n",
    "\n",
    "# Extract year and month from 'Date' column\n",
    "df['Year'] = df['Date'].dt.year\n",
    "df['Month'] = df['Date'].dt.month\n",
    "print(df)\n"
   ]
  },
  {
   "cell_type": "code",
   "execution_count": 28,
   "id": "fa29cc79",
   "metadata": {},
   "outputs": [
    {
     "name": "stdout",
     "output_type": "stream",
     "text": [
      "      Name  Age\n",
      "2  Charlie   28\n",
      "0    Alice   25\n",
      "1      Bob   22\n"
     ]
    }
   ],
   "source": [
    "import pandas as pd\n",
    "\n",
    "data = {'Name': ['Alice', 'Bob', 'Charlie'],\n",
    "        'Age': [25, 22, 28]}\n",
    "\n",
    "df = pd.DataFrame(data)\n",
    "\n",
    "# Sort DataFrame by 'Age' in descending order\n",
    "df_sorted = df.sort_values(by='Age', ascending=False)\n",
    "print(df_sorted)\n"
   ]
  },
  {
   "cell_type": "code",
   "execution_count": 29,
   "id": "f5ebdabf",
   "metadata": {},
   "outputs": [
    {
     "name": "stdout",
     "output_type": "stream",
     "text": [
      "      Name  Age\n",
      "0  Charlie   28\n",
      "1      Bob   22\n",
      "2    Alice   25\n"
     ]
    }
   ],
   "source": [
    "import pandas as pd\n",
    "\n",
    "data = {'Name': ['Alice', 'Bob', 'Charlie'],\n",
    "        'Age': [25, 22, 28]}\n",
    "\n",
    "df = pd.DataFrame(data, index=[2, 1, 0])  # Custom index\n",
    "\n",
    "# Sort DataFrame by index\n",
    "df_sorted = df.sort_index()\n",
    "print(df_sorted)\n"
   ]
  },
  {
   "cell_type": "code",
   "execution_count": null,
   "id": "7f17ea95",
   "metadata": {},
   "outputs": [],
   "source": [
    "#Grouping and Aggregating Data:\n",
    "\n",
    "#df.groupby('col_name').mean(): Calculate mean for each group.\n",
    "#df.groupby('col_name').sum(): Calculate sum for each group.\n",
    "#df.groupby('col_name').size(): Count occurrences in each group.\n",
    "#df.groupby('col_name').agg({'col1': 'mean', 'col2': 'sum'}): Apply multiple aggregation functions to different "
   ]
  },
  {
   "cell_type": "code",
   "execution_count": 30,
   "id": "9c3f77d8",
   "metadata": {},
   "outputs": [
    {
     "name": "stdout",
     "output_type": "stream",
     "text": [
      "          Value\n",
      "Category       \n",
      "A          12.5\n",
      "B          22.5\n"
     ]
    }
   ],
   "source": [
    "import pandas as pd\n",
    "\n",
    "data = {'Category': ['A', 'B', 'A', 'B'],\n",
    "        'Value': [10, 20, 15, 25]}\n",
    "\n",
    "df = pd.DataFrame(data)\n",
    "\n",
    "# Group by 'Category' and calculate the mean value for each group\n",
    "grouped_mean = df.groupby('Category').mean()\n",
    "print(grouped_mean)\n"
   ]
  },
  {
   "cell_type": "code",
   "execution_count": 31,
   "id": "6924cf42",
   "metadata": {},
   "outputs": [
    {
     "name": "stdout",
     "output_type": "stream",
     "text": [
      "          Value\n",
      "Category       \n",
      "A            25\n",
      "B            45\n"
     ]
    }
   ],
   "source": [
    "import pandas as pd\n",
    "\n",
    "data = {'Category': ['A', 'B', 'A', 'B'],\n",
    "        'Value': [10, 20, 15, 25]}\n",
    "\n",
    "df = pd.DataFrame(data)\n",
    "\n",
    "# Group by 'Category' and calculate the sum of values for each group\n",
    "grouped_sum = df.groupby('Category').sum()\n",
    "print(grouped_sum)\n"
   ]
  },
  {
   "cell_type": "code",
   "execution_count": 32,
   "id": "4eafa9a6",
   "metadata": {},
   "outputs": [
    {
     "name": "stdout",
     "output_type": "stream",
     "text": [
      "Category\n",
      "A    2\n",
      "B    2\n",
      "dtype: int64\n"
     ]
    }
   ],
   "source": [
    "import pandas as pd\n",
    "\n",
    "data = {'Category': ['A', 'B', 'A', 'B'],\n",
    "        'Value': [10, 20, 15, 25]}\n",
    "\n",
    "df = pd.DataFrame(data)\n",
    "\n",
    "# Group by 'Category' and count occurrences in each group\n",
    "grouped_count = df.groupby('Category').size()\n",
    "print(grouped_count)\n"
   ]
  },
  {
   "cell_type": "code",
   "execution_count": 33,
   "id": "0b2825bb",
   "metadata": {},
   "outputs": [
    {
     "name": "stdout",
     "output_type": "stream",
     "text": [
      "          Value1  Value2\n",
      "Category                \n",
      "A           12.5      13\n",
      "B           22.5      22\n"
     ]
    }
   ],
   "source": [
    "import pandas as pd\n",
    "\n",
    "data = {'Category': ['A', 'B', 'A', 'B'],\n",
    "        'Value1': [10, 20, 15, 25],\n",
    "        'Value2': [5, 10, 8, 12]}\n",
    "\n",
    "df = pd.DataFrame(data)\n",
    "\n",
    "# Group by 'Category' and calculate mean for 'Value1' and sum for 'Value2'\n",
    "grouped_agg = df.groupby('Category').agg({'Value1': 'mean', 'Value2': 'sum'})\n",
    "print(grouped_agg)\n"
   ]
  },
  {
   "cell_type": "code",
   "execution_count": null,
   "id": "839d150e",
   "metadata": {},
   "outputs": [],
   "source": [
    "#String Manipulation:\n",
    "\n",
    "#df['col_name'].str.len(): Calculate the length of strings in a column.\n",
    "#df['col_name'].str.contains('substring'): Check if a substring is present in each value."
   ]
  },
  {
   "cell_type": "code",
   "execution_count": 34,
   "id": "45cbedd9",
   "metadata": {},
   "outputs": [
    {
     "name": "stdout",
     "output_type": "stream",
     "text": [
      "      Name  Name_Length\n",
      "0    Alice            5\n",
      "1      Bob            3\n",
      "2  Charlie            7\n"
     ]
    }
   ],
   "source": [
    "import pandas as pd\n",
    "\n",
    "data = {'Name': ['Alice', 'Bob', 'Charlie']}\n",
    "\n",
    "df = pd.DataFrame(data)\n",
    "\n",
    "# Calculate the length of strings in the 'Name' column\n",
    "df['Name_Length'] = df['Name'].str.len()\n",
    "print(df)\n"
   ]
  },
  {
   "cell_type": "code",
   "execution_count": 35,
   "id": "c7cc9cbc",
   "metadata": {},
   "outputs": [
    {
     "name": "stdout",
     "output_type": "stream",
     "text": [
      "                Title  Contains_Science\n",
      "0        Data Science              True\n",
      "1    Machine Learning             False\n",
      "2  Python Programming             False\n"
     ]
    }
   ],
   "source": [
    "import pandas as pd\n",
    "\n",
    "data = {'Title': ['Data Science', 'Machine Learning', 'Python Programming']}\n",
    "\n",
    "df = pd.DataFrame(data)\n",
    "\n",
    "# Check if 'Science' is present in each value of the 'Title' column\n",
    "df['Contains_Science'] = df['Title'].str.contains('Science')\n",
    "print(df)\n"
   ]
  },
  {
   "cell_type": "code",
   "execution_count": null,
   "id": "13e8ed60",
   "metadata": {},
   "outputs": [],
   "source": [
    "#Date and Time Manipulation:\n",
    "\n",
    "#df['date_col'].dt.dayofweek: Extract day of the week from a datetime column.\n",
    "#df['date_col'].dt.day_name(): Get the name of the day from a datetime column."
   ]
  },
  {
   "cell_type": "code",
   "execution_count": 36,
   "id": "dfa0425c",
   "metadata": {},
   "outputs": [
    {
     "name": "stdout",
     "output_type": "stream",
     "text": [
      "        Date  Day_of_Week\n",
      "0 2023-08-01            1\n",
      "1 2023-08-02            2\n",
      "2 2023-08-03            3\n"
     ]
    }
   ],
   "source": [
    "import pandas as pd\n",
    "\n",
    "data = {'Date': ['2023-08-01', '2023-08-02', '2023-08-03']}\n",
    "\n",
    "df = pd.DataFrame(data)\n",
    "df['Date'] = pd.to_datetime(df['Date'])\n",
    "\n",
    "# Extract the day of the week (as an integer) from the 'Date' column\n",
    "df['Day_of_Week'] = df['Date'].dt.dayofweek\n",
    "print(df)\n"
   ]
  },
  {
   "cell_type": "code",
   "execution_count": 37,
   "id": "9b0a7ed9",
   "metadata": {},
   "outputs": [
    {
     "name": "stdout",
     "output_type": "stream",
     "text": [
      "        Date  Day_of_Week\n",
      "0 2023-08-01            1\n",
      "1 2023-08-02            2\n",
      "2 2023-08-03            3\n"
     ]
    }
   ],
   "source": [
    "import pandas as pd\n",
    "\n",
    "data = {'Date': ['2023-08-01', '2023-08-02', '2023-08-03']}\n",
    "\n",
    "df = pd.DataFrame(data)\n",
    "df['Date'] = pd.to_datetime(df['Date'])\n",
    "\n",
    "# Extract the day of the week (as an integer) from the 'Date' column\n",
    "df['Day_of_Week'] = df['Date'].dt.dayofweek\n",
    "print(df)\n"
   ]
  },
  {
   "cell_type": "code",
   "execution_count": 39,
   "id": "12f9fcf0",
   "metadata": {},
   "outputs": [
    {
     "name": "stdout",
     "output_type": "stream",
     "text": [
      "        Date   Day_Name\n",
      "0 2023-08-01    Tuesday\n",
      "1 2023-08-02  Wednesday\n",
      "2 2023-08-03   Thursday\n"
     ]
    }
   ],
   "source": [
    "import pandas as pd\n",
    "\n",
    "data = {'Date': ['2023-08-01', '2023-08-02', '2023-08-03']}\n",
    "\n",
    "df = pd.DataFrame(data)\n",
    "df['Date'] = pd.to_datetime(df['Date'])\n",
    "\n",
    "# Get the name of the day of the week from the 'Date' column\n",
    "df['Day_Name'] = df['Date'].dt.day_name()\n",
    "print(df)\n"
   ]
  },
  {
   "cell_type": "code",
   "execution_count": null,
   "id": "97a48cca",
   "metadata": {},
   "outputs": [],
   "source": [
    "#Reshaping Data:\n",
    "\n",
    "#pd.concat([df1, df2], axis=0): Concatenate DataFrames vertically.\n",
    "#pd.concat([df1, df2], axis=1): Concatenate DataFrames horizontally."
   ]
  },
  {
   "cell_type": "code",
   "execution_count": 40,
   "id": "e76eadcd",
   "metadata": {},
   "outputs": [
    {
     "name": "stdout",
     "output_type": "stream",
     "text": [
      "      Name  Age\n",
      "0    Alice   25\n",
      "1      Bob   30\n",
      "0  Charlie   28\n",
      "1    David   22\n"
     ]
    }
   ],
   "source": [
    "import pandas as pd\n",
    "\n",
    "data1 = {'Name': ['Alice', 'Bob'],\n",
    "         'Age': [25, 30]}\n",
    "\n",
    "data2 = {'Name': ['Charlie', 'David'],\n",
    "         'Age': [28, 22]}\n",
    "\n",
    "df1 = pd.DataFrame(data1)\n",
    "df2 = pd.DataFrame(data2)\n",
    "\n",
    "# Concatenate DataFrames vertically\n",
    "result = pd.concat([df1, df2], axis=0)\n",
    "print(result)\n"
   ]
  },
  {
   "cell_type": "code",
   "execution_count": 41,
   "id": "09d9d98d",
   "metadata": {},
   "outputs": [
    {
     "name": "stdout",
     "output_type": "stream",
     "text": [
      "    Name  Age Country Gender\n",
      "0  Alice   25     USA      F\n",
      "1    Bob   30  Canada      M\n"
     ]
    }
   ],
   "source": [
    "import pandas as pd\n",
    "\n",
    "data1 = {'Name': ['Alice', 'Bob'],\n",
    "         'Age': [25, 30]}\n",
    "\n",
    "data2 = {'Country': ['USA', 'Canada'],\n",
    "         'Gender': ['F', 'M']}\n",
    "\n",
    "df1 = pd.DataFrame(data1)\n",
    "df2 = pd.DataFrame(data2)\n",
    "\n",
    "# Concatenate DataFrames horizontally\n",
    "result = pd.concat([df1, df2], axis=1)\n",
    "print(result)\n"
   ]
  },
  {
   "cell_type": "code",
   "execution_count": null,
   "id": "03a58cfb",
   "metadata": {},
   "outputs": [],
   "source": [
    "#Merge and Join Data:\n",
    "\n",
    "#pd.merge(df1, df2, on='key_col'): Merge two DataFrames based on a common column.\n",
    "#df1.join(df2, on='key_col'): Join two DataFrames based "
   ]
  },
  {
   "cell_type": "code",
   "execution_count": 42,
   "id": "96bfad9e",
   "metadata": {},
   "outputs": [
    {
     "name": "stdout",
     "output_type": "stream",
     "text": [
      "   ID     Name  Age\n",
      "0   2      Bob   25\n",
      "1   3  Charlie   30\n"
     ]
    }
   ],
   "source": [
    "import pandas as pd\n",
    "\n",
    "data1 = {'ID': [1, 2, 3],\n",
    "         'Name': ['Alice', 'Bob', 'Charlie']}\n",
    "\n",
    "data2 = {'ID': [2, 3, 4],\n",
    "         'Age': [25, 30, 28]}\n",
    "\n",
    "df1 = pd.DataFrame(data1)\n",
    "df2 = pd.DataFrame(data2)\n",
    "\n",
    "# Merge DataFrames based on the 'ID' column\n",
    "result = pd.merge(df1, df2, on='ID')\n",
    "print(result)\n"
   ]
  },
  {
   "cell_type": "code",
   "execution_count": 43,
   "id": "8a26d2b4",
   "metadata": {},
   "outputs": [
    {
     "name": "stdout",
     "output_type": "stream",
     "text": [
      "   ID     Name   Age\n",
      "0   1    Alice  28.0\n",
      "1   2      Bob  25.0\n",
      "2   3  Charlie   NaN\n"
     ]
    }
   ],
   "source": [
    "import pandas as pd\n",
    "\n",
    "data1 = {'ID': [1, 2, 3],\n",
    "         'Name': ['Alice', 'Bob', 'Charlie']}\n",
    "\n",
    "data2 = {'Age': [25, 30, 28]}\n",
    "\n",
    "df1 = pd.DataFrame(data1)\n",
    "df2 = pd.DataFrame(data2, index=[2, 0, 1])  # Index matches the 'ID' column\n",
    "\n",
    "# Join DataFrames based on the index\n",
    "result = df1.join(df2, on='ID')\n",
    "print(result)\n"
   ]
  },
  {
   "cell_type": "code",
   "execution_count": null,
   "id": "fe3a96c7",
   "metadata": {},
   "outputs": [],
   "source": [
    "#Pivot Tables and Crosstabs:\n",
    "\n",
    "#pd.pivot_table(df, values='value_col', index='index_col', columns='col_name', aggfunc='mean'): Create a pivot table.\n",
    "#pd.crosstab(df['col1'], df['col2']): Create a cross-tabulation table."
   ]
  },
  {
   "cell_type": "code",
   "execution_count": 44,
   "id": "69141ac2",
   "metadata": {},
   "outputs": [
    {
     "name": "stdout",
     "output_type": "stream",
     "text": [
      "Product       A    B\n",
      "Date                \n",
      "2023-08-01  100  200\n",
      "2023-08-02  150  250\n"
     ]
    }
   ],
   "source": [
    "import pandas as pd\n",
    "\n",
    "data = {'Date': ['2023-08-01', '2023-08-01', '2023-08-02', '2023-08-02'],\n",
    "        'Product': ['A', 'B', 'A', 'B'],\n",
    "        'Sales': [100, 200, 150, 250]}\n",
    "\n",
    "df = pd.DataFrame(data)\n",
    "df['Date'] = pd.to_datetime(df['Date'])\n",
    "\n",
    "# Create a pivot table with 'Date' as index, 'Product' as columns, and 'Sales' as values\n",
    "pivot_table = pd.pivot_table(df, values='Sales', index='Date', columns='Product', aggfunc='sum')\n",
    "print(pivot_table)\n"
   ]
  },
  {
   "cell_type": "code",
   "execution_count": 45,
   "id": "5df56d8e",
   "metadata": {},
   "outputs": [
    {
     "name": "stdout",
     "output_type": "stream",
     "text": [
      "Status    Fail  Pass\n",
      "Category            \n",
      "A            1     2\n",
      "B            2     1\n"
     ]
    }
   ],
   "source": [
    "import pandas as pd\n",
    "\n",
    "data = {'Category': ['A', 'B', 'A', 'B', 'A', 'B'],\n",
    "        'Status': ['Pass', 'Fail', 'Fail', 'Pass', 'Pass', 'Fail']}\n",
    "\n",
    "df = pd.DataFrame(data)\n",
    "\n",
    "# Create a cross-tabulation table for 'Category' and 'Status'\n",
    "crosstab = pd.crosstab(df['Category'], df['Status'])\n",
    "print(crosstab)\n"
   ]
  },
  {
   "cell_type": "code",
   "execution_count": 46,
   "id": "92cff4d1",
   "metadata": {},
   "outputs": [
    {
     "data": {
      "text/plain": [
       "<Axes: ylabel='Frequency'>"
      ]
     },
     "execution_count": 46,
     "metadata": {},
     "output_type": "execute_result"
    },
    {
     "data": {
      "image/png": "[encoded data removed]",
      "text/plain": [
       "<Figure size 640x480 with 1 Axes>"
      ]
     },
     "metadata": {},
     "output_type": "display_data"
    },
    {
     "data": {
      "image/png": "[encoded data removed]",
      "text/plain": [
       "<Figure size 640x480 with 1 Axes>"
      ]
     },
     "metadata": {},
     "output_type": "display_data"
    },
    {
     "data": {
      "image/png": "[encoded data removed]",
      "text/plain": [
       "<Figure size 640x480 with 1 Axes>"
      ]
     },
     "metadata": {},
     "output_type": "display_data"
    }
   ],
   "source": [
    "import pandas as pd\n",
    "\n",
    "data = {'Year': [2018, 2019, 2020, 2021],\n",
    "        'Revenue': [1000, 1500, 1200, 1800]}\n",
    "\n",
    "df = pd.DataFrame(data)\n",
    "\n",
    "# Create a line plot\n",
    "df.plot(kind='line', x='Year', y='Revenue')\n",
    "\n",
    "# Create a bar plot\n",
    "df.plot(kind='bar', x='Year', y='Revenue')\n",
    "\n",
    "# Create a histogram\n",
    "df.plot(kind='hist', y='Revenue', bins=3)\n"
   ]
  },
  {
   "cell_type": "code",
   "execution_count": 47,
   "id": "d1872b28",
   "metadata": {},
   "outputs": [
    {
     "data": {
      "text/plain": [
       "<Axes: xlabel='Height', ylabel='Weight'>"
      ]
     },
     "execution_count": 47,
     "metadata": {},
     "output_type": "execute_result"
    },
    {
     "data": {
      "image/png": "[encoded data removed]",
      "text/plain": [
       "<Figure size 640x480 with 1 Axes>"
      ]
     },
     "metadata": {},
     "output_type": "display_data"
    }
   ],
   "source": [
    "import pandas as pd\n",
    "\n",
    "data = {'Height': [160, 170, 165, 175, 155],\n",
    "        'Weight': [60, 70, 65, 80, 50]}\n",
    "\n",
    "df = pd.DataFrame(data)\n",
    "\n",
    "# Create a scatter plot\n",
    "df.plot.scatter(x='Height', y='Weight')\n"
   ]
  },
  {
   "cell_type": "code",
   "execution_count": null,
   "id": "666ec6c0",
   "metadata": {},
   "outputs": [],
   "source": [
    "#resample(): Resample time series data.\n",
    "#shift(): Shift data in a time series.\n",
    "#rolling(): Compute rolling statistics for time series data."
   ]
  },
  {
   "cell_type": "code",
   "execution_count": 54,
   "id": "339118bf",
   "metadata": {},
   "outputs": [
    {
     "data": {
      "text/html": [
       "<div>\n",
       "<style scoped>\n",
       "    .dataframe tbody tr th:only-of-type {\n",
       "        vertical-align: middle;\n",
       "    }\n",
       "\n",
       "    .dataframe tbody tr th {\n",
       "        vertical-align: top;\n",
       "    }\n",
       "\n",
       "    .dataframe thead th {\n",
       "        text-align: right;\n",
       "    }\n",
       "</style>\n",
       "<table border=\"1\" class=\"dataframe\">\n",
       "  <thead>\n",
       "    <tr style=\"text-align: right;\">\n",
       "      <th></th>\n",
       "      <th>Price</th>\n",
       "    </tr>\n",
       "    <tr>\n",
       "      <th>Date</th>\n",
       "      <th></th>\n",
       "    </tr>\n",
       "  </thead>\n",
       "  <tbody>\n",
       "    <tr>\n",
       "      <th>2023-01-31</th>\n",
       "      <td>15.0</td>\n",
       "    </tr>\n",
       "    <tr>\n",
       "      <th>2023-02-28</th>\n",
       "      <td>44.5</td>\n",
       "    </tr>\n",
       "    <tr>\n",
       "      <th>2023-03-31</th>\n",
       "      <td>74.0</td>\n",
       "    </tr>\n",
       "    <tr>\n",
       "      <th>2023-04-30</th>\n",
       "      <td>104.5</td>\n",
       "    </tr>\n",
       "    <tr>\n",
       "      <th>2023-05-31</th>\n",
       "      <td>135.0</td>\n",
       "    </tr>\n",
       "    <tr>\n",
       "      <th>2023-06-30</th>\n",
       "      <td>165.5</td>\n",
       "    </tr>\n",
       "    <tr>\n",
       "      <th>2023-07-31</th>\n",
       "      <td>196.0</td>\n",
       "    </tr>\n",
       "    <tr>\n",
       "      <th>2023-08-31</th>\n",
       "      <td>227.0</td>\n",
       "    </tr>\n",
       "    <tr>\n",
       "      <th>2023-09-30</th>\n",
       "      <td>257.5</td>\n",
       "    </tr>\n",
       "    <tr>\n",
       "      <th>2023-10-31</th>\n",
       "      <td>288.0</td>\n",
       "    </tr>\n",
       "    <tr>\n",
       "      <th>2023-11-30</th>\n",
       "      <td>318.5</td>\n",
       "    </tr>\n",
       "    <tr>\n",
       "      <th>2023-12-31</th>\n",
       "      <td>349.0</td>\n",
       "    </tr>\n",
       "  </tbody>\n",
       "</table>\n",
       "</div>"
      ],
      "text/plain": [
       "            Price\n",
       "Date             \n",
       "2023-01-31   15.0\n",
       "2023-02-28   44.5\n",
       "2023-03-31   74.0\n",
       "2023-04-30  104.5\n",
       "2023-05-31  135.0\n",
       "2023-06-30  165.5\n",
       "2023-07-31  196.0\n",
       "2023-08-31  227.0\n",
       "2023-09-30  257.5\n",
       "2023-10-31  288.0\n",
       "2023-11-30  318.5\n",
       "2023-12-31  349.0"
      ]
     },
     "execution_count": 54,
     "metadata": {},
     "output_type": "execute_result"
    }
   ],
   "source": [
    "import pandas as pd\n",
    "\n",
    "# Create a DataFrame with daily stock prices\n",
    "data = {'Date': pd.date_range(start='2023-01-01', periods=365),\n",
    "        'Price': range(365)}\n",
    "\n",
    "df = pd.DataFrame(data)\n",
    "df.set_index('Date', inplace=True)\n",
    "\n",
    "# Resample to monthly frequency and calculate the mean\n",
    "monthly_mean = df.resample('M').mean()\n",
    "monthly_mean\n",
    "#resample(): Resampling involves changing the frequency of your time\n",
    "#series data. It's commonly used to aggregate data over different time intervals (e.g., daily to monthly)."
   ]
  },
  {
   "cell_type": "code",
   "execution_count": 52,
   "id": "23589687",
   "metadata": {},
   "outputs": [
    {
     "data": {
      "text/html": [
       "<div>\n",
       "<style scoped>\n",
       "    .dataframe tbody tr th:only-of-type {\n",
       "        vertical-align: middle;\n",
       "    }\n",
       "\n",
       "    .dataframe tbody tr th {\n",
       "        vertical-align: top;\n",
       "    }\n",
       "\n",
       "    .dataframe thead th {\n",
       "        text-align: right;\n",
       "    }\n",
       "</style>\n",
       "<table border=\"1\" class=\"dataframe\">\n",
       "  <thead>\n",
       "    <tr style=\"text-align: right;\">\n",
       "      <th></th>\n",
       "      <th>Sales</th>\n",
       "      <th>Shifted_Sales</th>\n",
       "    </tr>\n",
       "    <tr>\n",
       "      <th>Month</th>\n",
       "      <th></th>\n",
       "      <th></th>\n",
       "    </tr>\n",
       "  </thead>\n",
       "  <tbody>\n",
       "    <tr>\n",
       "      <th>2023-01-31</th>\n",
       "      <td>100</td>\n",
       "      <td>NaN</td>\n",
       "    </tr>\n",
       "    <tr>\n",
       "      <th>2023-02-28</th>\n",
       "      <td>150</td>\n",
       "      <td>100.0</td>\n",
       "    </tr>\n",
       "    <tr>\n",
       "      <th>2023-03-31</th>\n",
       "      <td>120</td>\n",
       "      <td>150.0</td>\n",
       "    </tr>\n",
       "    <tr>\n",
       "      <th>2023-04-30</th>\n",
       "      <td>130</td>\n",
       "      <td>120.0</td>\n",
       "    </tr>\n",
       "    <tr>\n",
       "      <th>2023-05-31</th>\n",
       "      <td>110</td>\n",
       "      <td>130.0</td>\n",
       "    </tr>\n",
       "    <tr>\n",
       "      <th>2023-06-30</th>\n",
       "      <td>180</td>\n",
       "      <td>110.0</td>\n",
       "    </tr>\n",
       "    <tr>\n",
       "      <th>2023-07-31</th>\n",
       "      <td>200</td>\n",
       "      <td>180.0</td>\n",
       "    </tr>\n",
       "    <tr>\n",
       "      <th>2023-08-31</th>\n",
       "      <td>170</td>\n",
       "      <td>200.0</td>\n",
       "    </tr>\n",
       "    <tr>\n",
       "      <th>2023-09-30</th>\n",
       "      <td>140</td>\n",
       "      <td>170.0</td>\n",
       "    </tr>\n",
       "    <tr>\n",
       "      <th>2023-10-31</th>\n",
       "      <td>160</td>\n",
       "      <td>140.0</td>\n",
       "    </tr>\n",
       "    <tr>\n",
       "      <th>2023-11-30</th>\n",
       "      <td>190</td>\n",
       "      <td>160.0</td>\n",
       "    </tr>\n",
       "    <tr>\n",
       "      <th>2023-12-31</th>\n",
       "      <td>220</td>\n",
       "      <td>190.0</td>\n",
       "    </tr>\n",
       "  </tbody>\n",
       "</table>\n",
       "</div>"
      ],
      "text/plain": [
       "            Sales  Shifted_Sales\n",
       "Month                           \n",
       "2023-01-31    100            NaN\n",
       "2023-02-28    150          100.0\n",
       "2023-03-31    120          150.0\n",
       "2023-04-30    130          120.0\n",
       "2023-05-31    110          130.0\n",
       "2023-06-30    180          110.0\n",
       "2023-07-31    200          180.0\n",
       "2023-08-31    170          200.0\n",
       "2023-09-30    140          170.0\n",
       "2023-10-31    160          140.0\n",
       "2023-11-30    190          160.0\n",
       "2023-12-31    220          190.0"
      ]
     },
     "execution_count": 52,
     "metadata": {},
     "output_type": "execute_result"
    }
   ],
   "source": [
    "#shift(): This function allows you to shift the data values in a time series by a specified number of periods.\n",
    "\n",
    "\n",
    "import pandas as pd\n",
    "\n",
    "# Create a DataFrame with monthly sales data\n",
    "data = {'Month': pd.date_range(start='2023-01-01', periods=12, freq='M'),\n",
    "        'Sales': [100, 150, 120, 130, 110, 180, 200, 170, 140, 160, 190, 220]}\n",
    "\n",
    "df = pd.DataFrame(data)\n",
    "df.set_index('Month', inplace=True)\n",
    "\n",
    "# Shift the sales data by one month\n",
    "df['Shifted_Sales'] = df['Sales'].shift(1)\n",
    "df"
   ]
  },
  {
   "cell_type": "code",
   "execution_count": 53,
   "id": "861d07be",
   "metadata": {},
   "outputs": [
    {
     "data": {
      "text/html": [
       "<div>\n",
       "<style scoped>\n",
       "    .dataframe tbody tr th:only-of-type {\n",
       "        vertical-align: middle;\n",
       "    }\n",
       "\n",
       "    .dataframe tbody tr th {\n",
       "        vertical-align: top;\n",
       "    }\n",
       "\n",
       "    .dataframe thead th {\n",
       "        text-align: right;\n",
       "    }\n",
       "</style>\n",
       "<table border=\"1\" class=\"dataframe\">\n",
       "  <thead>\n",
       "    <tr style=\"text-align: right;\">\n",
       "      <th></th>\n",
       "      <th>Price</th>\n",
       "      <th>Rolling_Mean</th>\n",
       "    </tr>\n",
       "    <tr>\n",
       "      <th>Date</th>\n",
       "      <th></th>\n",
       "      <th></th>\n",
       "    </tr>\n",
       "  </thead>\n",
       "  <tbody>\n",
       "    <tr>\n",
       "      <th>2023-01-01</th>\n",
       "      <td>100</td>\n",
       "      <td>NaN</td>\n",
       "    </tr>\n",
       "    <tr>\n",
       "      <th>2023-01-02</th>\n",
       "      <td>110</td>\n",
       "      <td>NaN</td>\n",
       "    </tr>\n",
       "    <tr>\n",
       "      <th>2023-01-03</th>\n",
       "      <td>120</td>\n",
       "      <td>NaN</td>\n",
       "    </tr>\n",
       "    <tr>\n",
       "      <th>2023-01-04</th>\n",
       "      <td>125</td>\n",
       "      <td>NaN</td>\n",
       "    </tr>\n",
       "    <tr>\n",
       "      <th>2023-01-05</th>\n",
       "      <td>130</td>\n",
       "      <td>117.0</td>\n",
       "    </tr>\n",
       "    <tr>\n",
       "      <th>2023-01-06</th>\n",
       "      <td>125</td>\n",
       "      <td>122.0</td>\n",
       "    </tr>\n",
       "    <tr>\n",
       "      <th>2023-01-07</th>\n",
       "      <td>135</td>\n",
       "      <td>127.0</td>\n",
       "    </tr>\n",
       "    <tr>\n",
       "      <th>2023-01-08</th>\n",
       "      <td>140</td>\n",
       "      <td>131.0</td>\n",
       "    </tr>\n",
       "    <tr>\n",
       "      <th>2023-01-09</th>\n",
       "      <td>150</td>\n",
       "      <td>136.0</td>\n",
       "    </tr>\n",
       "    <tr>\n",
       "      <th>2023-01-10</th>\n",
       "      <td>155</td>\n",
       "      <td>141.0</td>\n",
       "    </tr>\n",
       "    <tr>\n",
       "      <th>2023-01-11</th>\n",
       "      <td>160</td>\n",
       "      <td>148.0</td>\n",
       "    </tr>\n",
       "    <tr>\n",
       "      <th>2023-01-12</th>\n",
       "      <td>165</td>\n",
       "      <td>154.0</td>\n",
       "    </tr>\n",
       "    <tr>\n",
       "      <th>2023-01-13</th>\n",
       "      <td>160</td>\n",
       "      <td>158.0</td>\n",
       "    </tr>\n",
       "    <tr>\n",
       "      <th>2023-01-14</th>\n",
       "      <td>170</td>\n",
       "      <td>162.0</td>\n",
       "    </tr>\n",
       "    <tr>\n",
       "      <th>2023-01-15</th>\n",
       "      <td>175</td>\n",
       "      <td>166.0</td>\n",
       "    </tr>\n",
       "    <tr>\n",
       "      <th>2023-01-16</th>\n",
       "      <td>180</td>\n",
       "      <td>170.0</td>\n",
       "    </tr>\n",
       "    <tr>\n",
       "      <th>2023-01-17</th>\n",
       "      <td>185</td>\n",
       "      <td>174.0</td>\n",
       "    </tr>\n",
       "    <tr>\n",
       "      <th>2023-01-18</th>\n",
       "      <td>190</td>\n",
       "      <td>180.0</td>\n",
       "    </tr>\n",
       "    <tr>\n",
       "      <th>2023-01-19</th>\n",
       "      <td>195</td>\n",
       "      <td>185.0</td>\n",
       "    </tr>\n",
       "    <tr>\n",
       "      <th>2023-01-20</th>\n",
       "      <td>200</td>\n",
       "      <td>190.0</td>\n",
       "    </tr>\n",
       "    <tr>\n",
       "      <th>2023-01-21</th>\n",
       "      <td>210</td>\n",
       "      <td>196.0</td>\n",
       "    </tr>\n",
       "    <tr>\n",
       "      <th>2023-01-22</th>\n",
       "      <td>215</td>\n",
       "      <td>202.0</td>\n",
       "    </tr>\n",
       "    <tr>\n",
       "      <th>2023-01-23</th>\n",
       "      <td>220</td>\n",
       "      <td>208.0</td>\n",
       "    </tr>\n",
       "    <tr>\n",
       "      <th>2023-01-24</th>\n",
       "      <td>225</td>\n",
       "      <td>214.0</td>\n",
       "    </tr>\n",
       "    <tr>\n",
       "      <th>2023-01-25</th>\n",
       "      <td>230</td>\n",
       "      <td>220.0</td>\n",
       "    </tr>\n",
       "    <tr>\n",
       "      <th>2023-01-26</th>\n",
       "      <td>235</td>\n",
       "      <td>225.0</td>\n",
       "    </tr>\n",
       "    <tr>\n",
       "      <th>2023-01-27</th>\n",
       "      <td>240</td>\n",
       "      <td>230.0</td>\n",
       "    </tr>\n",
       "    <tr>\n",
       "      <th>2023-01-28</th>\n",
       "      <td>245</td>\n",
       "      <td>235.0</td>\n",
       "    </tr>\n",
       "    <tr>\n",
       "      <th>2023-01-29</th>\n",
       "      <td>250</td>\n",
       "      <td>240.0</td>\n",
       "    </tr>\n",
       "    <tr>\n",
       "      <th>2023-01-30</th>\n",
       "      <td>255</td>\n",
       "      <td>245.0</td>\n",
       "    </tr>\n",
       "  </tbody>\n",
       "</table>\n",
       "</div>"
      ],
      "text/plain": [
       "            Price  Rolling_Mean\n",
       "Date                           \n",
       "2023-01-01    100           NaN\n",
       "2023-01-02    110           NaN\n",
       "2023-01-03    120           NaN\n",
       "2023-01-04    125           NaN\n",
       "2023-01-05    130         117.0\n",
       "2023-01-06    125         122.0\n",
       "2023-01-07    135         127.0\n",
       "2023-01-08    140         131.0\n",
       "2023-01-09    150         136.0\n",
       "2023-01-10    155         141.0\n",
       "2023-01-11    160         148.0\n",
       "2023-01-12    165         154.0\n",
       "2023-01-13    160         158.0\n",
       "2023-01-14    170         162.0\n",
       "2023-01-15    175         166.0\n",
       "2023-01-16    180         170.0\n",
       "2023-01-17    185         174.0\n",
       "2023-01-18    190         180.0\n",
       "2023-01-19    195         185.0\n",
       "2023-01-20    200         190.0\n",
       "2023-01-21    210         196.0\n",
       "2023-01-22    215         202.0\n",
       "2023-01-23    220         208.0\n",
       "2023-01-24    225         214.0\n",
       "2023-01-25    230         220.0\n",
       "2023-01-26    235         225.0\n",
       "2023-01-27    240         230.0\n",
       "2023-01-28    245         235.0\n",
       "2023-01-29    250         240.0\n",
       "2023-01-30    255         245.0"
      ]
     },
     "execution_count": 53,
     "metadata": {},
     "output_type": "execute_result"
    }
   ],
   "source": [
    "#rolling(): The rolling() function computes rolling statistics (such as mean, median, etc.) \n",
    "#over a specified window of time in a time series.\n",
    "import pandas as pd\n",
    "\n",
    "# Create a DataFrame with daily stock prices\n",
    "data = {'Date': pd.date_range(start='2023-01-01', periods=30),\n",
    "        'Price': [100, 110, 120, 125, 130, 125, 135, 140, 150, 155,\n",
    "                  160, 165, 160, 170, 175, 180, 185, 190, 195, 200,\n",
    "                  210, 215, 220, 225, 230, 235, 240, 245, 250, 255]}\n",
    "\n",
    "df = pd.DataFrame(data)\n",
    "df.set_index('Date', inplace=True)\n",
    "\n",
    "# Calculate the rolling mean over a window of 5 days\n",
    "df['Rolling_Mean'] = df['Price'].rolling(window=5).mean()\n",
    "df"
   ]
  },
  {
   "cell_type": "code",
   "execution_count": 56,
   "id": "6f6f93aa",
   "metadata": {},
   "outputs": [
    {
     "data": {
      "text/html": [
       "<div>\n",
       "<style scoped>\n",
       "    .dataframe tbody tr th:only-of-type {\n",
       "        vertical-align: middle;\n",
       "    }\n",
       "\n",
       "    .dataframe tbody tr th {\n",
       "        vertical-align: top;\n",
       "    }\n",
       "\n",
       "    .dataframe thead th {\n",
       "        text-align: right;\n",
       "    }\n",
       "</style>\n",
       "<table border=\"1\" class=\"dataframe\">\n",
       "  <thead>\n",
       "    <tr style=\"text-align: right;\">\n",
       "      <th></th>\n",
       "      <th>A</th>\n",
       "    </tr>\n",
       "  </thead>\n",
       "  <tbody>\n",
       "    <tr>\n",
       "      <th>row1</th>\n",
       "      <td>1</td>\n",
       "    </tr>\n",
       "    <tr>\n",
       "      <th>row2</th>\n",
       "      <td>2</td>\n",
       "    </tr>\n",
       "    <tr>\n",
       "      <th>row3</th>\n",
       "      <td>3</td>\n",
       "    </tr>\n",
       "  </tbody>\n",
       "</table>\n",
       "</div>"
      ],
      "text/plain": [
       "      A\n",
       "row1  1\n",
       "row2  2\n",
       "row3  3"
      ]
     },
     "execution_count": 56,
     "metadata": {},
     "output_type": "execute_result"
    }
   ],
   "source": [
    "import pandas as pd\n",
    "\n",
    "data = {'A': [1, 2, 3], 'B': [4, 5, 6]}\n",
    "df = pd.DataFrame(data, index=['row1', 'row2', 'row3'])\n",
    "\n",
    "# Select specific rows by labels\n",
    "selected_rows = df.loc[['row1', 'row3']]\n",
    "\n",
    "# Select specific columns by labels\n",
    "selected_columns = df.loc[:, ['A']]\n",
    "selected_columns\n"
   ]
  },
  {
   "cell_type": "code",
   "execution_count": 62,
   "id": "7889e587",
   "metadata": {},
   "outputs": [
    {
     "data": {
      "text/html": [
       "<div>\n",
       "<style scoped>\n",
       "    .dataframe tbody tr th:only-of-type {\n",
       "        vertical-align: middle;\n",
       "    }\n",
       "\n",
       "    .dataframe tbody tr th {\n",
       "        vertical-align: top;\n",
       "    }\n",
       "\n",
       "    .dataframe thead th {\n",
       "        text-align: right;\n",
       "    }\n",
       "</style>\n",
       "<table border=\"1\" class=\"dataframe\">\n",
       "  <thead>\n",
       "    <tr style=\"text-align: right;\">\n",
       "      <th></th>\n",
       "      <th>B</th>\n",
       "    </tr>\n",
       "  </thead>\n",
       "  <tbody>\n",
       "    <tr>\n",
       "      <th>0</th>\n",
       "      <td>4</td>\n",
       "    </tr>\n",
       "    <tr>\n",
       "      <th>1</th>\n",
       "      <td>5</td>\n",
       "    </tr>\n",
       "    <tr>\n",
       "      <th>2</th>\n",
       "      <td>6</td>\n",
       "    </tr>\n",
       "  </tbody>\n",
       "</table>\n",
       "</div>"
      ],
      "text/plain": [
       "   B\n",
       "0  4\n",
       "1  5\n",
       "2  6"
      ]
     },
     "execution_count": 62,
     "metadata": {},
     "output_type": "execute_result"
    }
   ],
   "source": [
    "import pandas as pd\n",
    "\n",
    "data = {'A': [1, 2, 3], 'B': [4, 5, 6]}\n",
    "df = pd.DataFrame(data)\n",
    "\n",
    "# Select the first row by its position\n",
    "first_row = df.iloc[0]\n",
    "\n",
    "# Select specific rows by positions\n",
    "selected_rows = df.iloc[[0, 2]]\n",
    "selected_rows\n",
    "# Select specific columns by positions\n",
    "selected_columns = df.iloc[:, [1]]\n",
    "\n",
    "selected_columns"
   ]
  },
  {
   "cell_type": "code",
   "execution_count": 63,
   "id": "e4d6e8bc",
   "metadata": {},
   "outputs": [
    {
     "name": "stdout",
     "output_type": "stream",
     "text": [
      "        Date  Value  Shifted\n",
      "0 2023-01-01     10      NaN\n",
      "1 2023-01-02     20     10.0\n",
      "2 2023-01-03     30     20.0\n",
      "3 2023-01-04     40     30.0\n",
      "4 2023-01-05     50     40.0\n"
     ]
    }
   ],
   "source": [
    "import pandas as pd\n",
    "\n",
    "# Create a sample DataFrame\n",
    "data = {'Date': pd.date_range(start='2023-01-01', periods=5, freq='D'),\n",
    "        'Value': [10, 20, 30, 40, 50]}\n",
    "df = pd.DataFrame(data)\n",
    "\n",
    "# Shift the 'Value' column by 1 position\n",
    "df['Shifted'] = df['Value'].shift(1)\n",
    "\n",
    "print(df)\n"
   ]
  },
  {
   "cell_type": "code",
   "execution_count": 64,
   "id": "adcdf9ef",
   "metadata": {},
   "outputs": [
    {
     "name": "stdout",
     "output_type": "stream",
     "text": [
      "        Date  Value  Diff\n",
      "0 2023-01-01     10   NaN\n",
      "1 2023-01-02     20  10.0\n",
      "2 2023-01-03     30  10.0\n",
      "3 2023-01-04     40  10.0\n",
      "4 2023-01-05     50  10.0\n"
     ]
    }
   ],
   "source": [
    "import pandas as pd\n",
    "\n",
    "# Create a sample DataFrame\n",
    "data = {'Date': pd.date_range(start='2023-01-01', periods=5, freq='D'),\n",
    "        'Value': [10, 20, 30, 40, 50]}\n",
    "df = pd.DataFrame(data)\n",
    "\n",
    "# Calculate the differences between consecutive values\n",
    "df['Diff'] = df['Value'].diff()\n",
    "\n",
    "print(df)\n"
   ]
  },
  {
   "cell_type": "code",
   "execution_count": null,
   "id": "e98266f1",
   "metadata": {},
   "outputs": [],
   "source": [
    "#In this example, the diff() function calculates the differences between \n",
    "#consecutive values of the 'Value' column. The first row has a NaN (Not a Number) \n",
    "#value in the 'Diff' column since there is no previous value to calculate the difference from. \n",
    "#The subsequent rows show the differences between consecutive values.\n",
    "\n",
    "\n",
    "\n",
    "\n",
    "\n"
   ]
  },
  {
   "cell_type": "code",
   "execution_count": null,
   "id": "1b86afbc",
   "metadata": {},
   "outputs": [],
   "source": [
    "#pct_change() function is used to calculate the percentage\n",
    "#change between consecutive values of an existing column and\n",
    "#create a new column with those percentage changes. "
   ]
  },
  {
   "cell_type": "code",
   "execution_count": 65,
   "id": "04016505",
   "metadata": {},
   "outputs": [
    {
     "name": "stdout",
     "output_type": "stream",
     "text": [
      "        Date  Value  Pct_Change\n",
      "0 2023-01-01     10         NaN\n",
      "1 2023-01-02     20  100.000000\n",
      "2 2023-01-03     30   50.000000\n",
      "3 2023-01-04     40   33.333333\n",
      "4 2023-01-05     50   25.000000\n"
     ]
    }
   ],
   "source": [
    "import pandas as pd\n",
    "\n",
    "# Create a sample DataFrame\n",
    "data = {'Date': pd.date_range(start='2023-01-01', periods=5, freq='D'),\n",
    "        'Value': [10, 20, 30, 40, 50]}\n",
    "df = pd.DataFrame(data)\n",
    "\n",
    "# Calculate the percentage change between consecutive values\n",
    "df['Pct_Change'] = df['Value'].pct_change() * 100\n",
    "\n",
    "print(df)\n"
   ]
  },
  {
   "cell_type": "code",
   "execution_count": null,
   "id": "7c38934d",
   "metadata": {},
   "outputs": [],
   "source": [
    "#pct_change() function calculates the percentage change between consecutive values of the \n",
    "#'Value' column. The first row has a NaN (Not a Number) value in the 'Pct_Change' \n",
    "#column since there is no previous value to calculate the percentage change from. \n",
    "#The subsequent rows show the percentage changes between consecutive values, multiplied by 100 to represent percentages."
   ]
  },
  {
   "cell_type": "code",
   "execution_count": null,
   "id": "462f8339",
   "metadata": {},
   "outputs": [],
   "source": [
    "#rolling() function is used to calculate the rolling mean of an existing \n",
    "#column over a specified window size and create a new column with those rolling mean values."
   ]
  },
  {
   "cell_type": "code",
   "execution_count": 66,
   "id": "ea13a1d9",
   "metadata": {},
   "outputs": [
    {
     "name": "stdout",
     "output_type": "stream",
     "text": [
      "        Date  Value  Rolling_Mean\n",
      "0 2023-01-01     10           NaN\n",
      "1 2023-01-02     15           NaN\n",
      "2 2023-01-03     20           NaN\n",
      "3 2023-01-04     25           NaN\n",
      "4 2023-01-05     30           NaN\n",
      "5 2023-01-06     35           NaN\n",
      "6 2023-01-07     40          25.0\n",
      "7 2023-01-08     45          30.0\n",
      "8 2023-01-09     50          35.0\n",
      "9 2023-01-10     55          40.0\n"
     ]
    }
   ],
   "source": [
    "import pandas as pd\n",
    "\n",
    "# Create a sample DataFrame\n",
    "data = {'Date': pd.date_range(start='2023-01-01', periods=10, freq='D'),\n",
    "        'Value': [10, 15, 20, 25, 30, 35, 40, 45, 50, 55]}\n",
    "df = pd.DataFrame(data)\n",
    "\n",
    "# Calculate the rolling mean with a window size of 7\n",
    "df['Rolling_Mean'] = df['Value'].rolling(window=7).mean()\n",
    "\n",
    "print(df)\n"
   ]
  },
  {
   "cell_type": "code",
   "execution_count": null,
   "id": "0bbfc610",
   "metadata": {},
   "outputs": [],
   "source": [
    "#rolling(window=7).mean() function calculates the rolling mean of the \n",
    "#'Value' column over a window size of 7 days. The first 6 rows have NaN (Not a Number)\n",
    "#values in the 'Rolling_Mean' column since there are not enough previous values to calculate the \n",
    "#rolling mean. Starting from the 7th row, the rolling mean is calculated using the preceding 7 values."
   ]
  },
  {
   "cell_type": "code",
   "execution_count": null,
   "id": "568dded6",
   "metadata": {},
   "outputs": [],
   "source": [
    "#resample() function is used to resample time series data at a\n",
    "#specified frequency and apply a aggregation function (in this case, the mean) \n",
    "#to the data within each time interval. "
   ]
  },
  {
   "cell_type": "code",
   "execution_count": 68,
   "id": "19cc74b8",
   "metadata": {},
   "outputs": [
    {
     "name": "stdout",
     "output_type": "stream",
     "text": [
      "            Value\n",
      "Date             \n",
      "2023-01-01   10.0\n",
      "2023-01-08   30.0\n",
      "2023-01-15   52.5\n"
     ]
    }
   ],
   "source": [
    "import pandas as pd\n",
    "\n",
    "# Create a sample DataFrame with a DatetimeIndex\n",
    "data = {'Date': pd.date_range(start='2023-01-01', periods=10, freq='D'),\n",
    "        'Value': [10, 15, 20, 25, 30, 35, 40, 45, 50, 55]}\n",
    "df = pd.DataFrame(data)\n",
    "df.set_index('Date', inplace=True)  # Set 'Date' column as the index\n",
    "\n",
    "# Now you can use resample\n",
    "df_resampled = df.resample('W').mean()\n",
    "\n",
    "print(df_resampled)\n",
    "\n"
   ]
  },
  {
   "cell_type": "code",
   "execution_count": null,
   "id": "911ecbd5",
   "metadata": {},
   "outputs": [],
   "source": [
    "# resample('W').mean() function resamples the 'Date' index of the DataFrame at a weekly frequency\n",
    "#('W') and calculates the mean of the 'Value' column within each week. The resulting df_resampled \n",
    "#DataFrame shows the mean value for each week.\n",
    "\n",
    "#Resampling is a powerful technique in time series analysis that allows you \n",
    "#to aggregate data over different time intervals, which can be useful for creating summaries,\n",
    "#identifying patterns, and visualizing trends in your data."
   ]
  },
  {
   "cell_type": "code",
   "execution_count": null,
   "id": "90aa8e59",
   "metadata": {},
   "outputs": [],
   "source": [
    "#cumulative sum of the 'Value' column in your DataFrame and creating a new column called \n",
    "#'Cumulative_Sum' to store the results. This can be very useful for tracking the cumulative \n",
    "#total of a particular value or metric over time."
   ]
  },
  {
   "cell_type": "code",
   "execution_count": 69,
   "id": "fc4ceae1",
   "metadata": {},
   "outputs": [
    {
     "name": "stdout",
     "output_type": "stream",
     "text": [
      "        Date  Value  Cumulative_Sum\n",
      "0 2023-01-01     10              10\n",
      "1 2023-01-02     15              25\n",
      "2 2023-01-03     20              45\n",
      "3 2023-01-04     25              70\n",
      "4 2023-01-05     30             100\n",
      "5 2023-01-06     35             135\n",
      "6 2023-01-07     40             175\n",
      "7 2023-01-08     45             220\n",
      "8 2023-01-09     50             270\n",
      "9 2023-01-10     55             325\n"
     ]
    }
   ],
   "source": [
    "import pandas as pd\n",
    "\n",
    "# Create a sample DataFrame\n",
    "data = {'Date': pd.date_range(start='2023-01-01', periods=10, freq='D'),\n",
    "        'Value': [10, 15, 20, 25, 30, 35, 40, 45, 50, 55]}\n",
    "df = pd.DataFrame(data)\n",
    "\n",
    "# Calculate the cumulative sum of the 'Value' column\n",
    "df['Cumulative_Sum'] = df['Value'].cumsum()\n",
    "\n",
    "print(df)\n"
   ]
  },
  {
   "cell_type": "code",
   "execution_count": null,
   "id": "c8c670f0",
   "metadata": {},
   "outputs": [],
   "source": [
    "#This information can be valuable for understanding the accumulation\n",
    "#of values over time or for creating cumulative charts and visualizations"
   ]
  },
  {
   "cell_type": "code",
   "execution_count": null,
   "id": "694beeb6",
   "metadata": {},
   "outputs": [],
   "source": [
    "#Cumulative_Product' column keeps track of the cumulative product \n",
    "#of the 'Value' column as you move down the DataFrame. \n",
    "#This can be helpful for understanding the cumulative effect of multiplicative changes in a value over time"
   ]
  },
  {
   "cell_type": "code",
   "execution_count": 70,
   "id": "cd78549f",
   "metadata": {},
   "outputs": [
    {
     "name": "stdout",
     "output_type": "stream",
     "text": [
      "        Date  Value  Cumulative_Product\n",
      "0 2023-01-01      2                   2\n",
      "1 2023-01-02      3                   6\n",
      "2 2023-01-03      4                  24\n",
      "3 2023-01-04      5                 120\n",
      "4 2023-01-05      6                 720\n"
     ]
    }
   ],
   "source": [
    "import pandas as pd\n",
    "\n",
    "# Create a sample DataFrame\n",
    "data = {'Date': pd.date_range(start='2023-01-01', periods=5, freq='D'),\n",
    "        'Value': [2, 3, 4, 5, 6]}\n",
    "df = pd.DataFrame(data)\n",
    "\n",
    "# Calculate the cumulative product of the 'Value' column\n",
    "df['Cumulative_Product'] = df['Value'].cumprod()\n",
    "\n",
    "print(df)\n"
   ]
  },
  {
   "cell_type": "code",
   "execution_count": null,
   "id": "35cd6fa5",
   "metadata": {},
   "outputs": [],
   "source": [
    "#calculating the rolling standard deviation of the 'Value'\n",
    "#column in your DataFrame using a window size of 30, and then creating\n",
    "#a new column called 'Rolling_Std' to store the calculated values. Rolling statistics\n",
    "#like rolling mean and rolling standard deviation can help you identify trends and variations\n",
    "#in your data over a specific window of observations."
   ]
  },
  {
   "cell_type": "code",
   "execution_count": 71,
   "id": "0ebe68c1",
   "metadata": {},
   "outputs": [
    {
     "name": "stdout",
     "output_type": "stream",
     "text": [
      "         Date     Value  Rolling_Std\n",
      "0  2023-01-01  0.832729          NaN\n",
      "1  2023-01-02 -0.125958          NaN\n",
      "2  2023-01-03  0.002273          NaN\n",
      "3  2023-01-04 -0.263005          NaN\n",
      "4  2023-01-05 -1.451389          NaN\n",
      "..        ...       ...          ...\n",
      "95 2023-04-06 -1.643767     0.927580\n",
      "96 2023-04-07  0.420006     0.903608\n",
      "97 2023-04-08 -0.118867     0.903545\n",
      "98 2023-04-09 -1.255754     0.931976\n",
      "99 2023-04-10  0.645125     0.932090\n",
      "\n",
      "[100 rows x 3 columns]\n"
     ]
    }
   ],
   "source": [
    "import pandas as pd\n",
    "import numpy as np\n",
    "\n",
    "# Create a sample DataFrame\n",
    "data = {'Date': pd.date_range(start='2023-01-01', periods=100, freq='D'),\n",
    "        'Value': np.random.randn(100)}  # Generating random values\n",
    "df = pd.DataFrame(data)\n",
    "\n",
    "# Calculate the rolling standard deviation of the 'Value' column\n",
    "df['Rolling_Std'] = df['Value'].rolling(window=30).std()\n",
    "\n",
    "print(df)\n"
   ]
  },
  {
   "cell_type": "code",
   "execution_count": null,
   "id": "1962b736",
   "metadata": {},
   "outputs": [],
   "source": [
    "#In this example, the 'Rolling_Std' column contains the rolling standard deviation \n",
    "#of the 'Value' column with a window size of 30. As you move down the DataFrame,\n",
    "#the rolling standard deviation is calculated for each window of 30 observations.\n",
    "#This can help you identify periods of high or low variability in the data and is \n",
    "#often used for smoothing noisy time series data."
   ]
  },
  {
   "cell_type": "code",
   "execution_count": null,
   "id": "ca4a3ab0",
   "metadata": {},
   "outputs": [],
   "source": [
    "# you're calculating the exponentially weighted moving average (EWMA) \n",
    "#of the 'Value' column in your DataFrame using a span of 10,\n",
    "#and then creating a new column called 'EWMA' to store the calculated values.\n",
    "#The EWMA is a type of moving average that gives more weight to recent observations,\n",
    "#making it responsive to changes in the data."
   ]
  },
  {
   "cell_type": "code",
   "execution_count": 72,
   "id": "c01edb15",
   "metadata": {},
   "outputs": [
    {
     "name": "stdout",
     "output_type": "stream",
     "text": [
      "         Date     Value      EWMA\n",
      "0  2023-01-01  0.743331  0.743331\n",
      "1  2023-01-02 -0.115200  0.271139\n",
      "2  2023-01-03  0.455230  0.345142\n",
      "3  2023-01-04  0.256416  0.315911\n",
      "4  2023-01-05 -1.366354 -0.167022\n",
      "5  2023-01-06  0.183684 -0.075931\n",
      "6  2023-01-07 -0.880809 -0.269874\n",
      "7  2023-01-08 -1.708271 -0.597117\n",
      "8  2023-01-09  0.093250 -0.446917\n",
      "9  2023-01-10  0.303947 -0.289193\n",
      "10 2023-01-11  0.763915 -0.074057\n",
      "11 2023-01-12 -0.769932 -0.213091\n",
      "12 2023-01-13 -0.455896 -0.260746\n",
      "13 2023-01-14 -1.654774 -0.530453\n",
      "14 2023-01-15  1.470094 -0.147860\n",
      "15 2023-01-16  1.664299  0.195469\n",
      "16 2023-01-17  1.672801  0.473240\n",
      "17 2023-01-18  1.571580  0.678479\n",
      "18 2023-01-19  0.662222  0.675456\n",
      "19 2023-01-20  0.263048  0.599093\n",
      "20 2023-01-21  1.410189  0.748778\n",
      "21 2023-01-22  1.020945  0.798869\n",
      "22 2023-01-23  1.025479  0.840483\n",
      "23 2023-01-24 -0.241986  0.642063\n",
      "24 2023-01-25  1.076238  0.721531\n",
      "25 2023-01-26  0.454810  0.672772\n",
      "26 2023-01-27  0.755155  0.687817\n",
      "27 2023-01-28  0.238690  0.605860\n",
      "28 2023-01-29  1.716397  0.808377\n",
      "29 2023-01-30  1.142730  0.869317\n",
      "30 2023-01-31 -1.979131  0.350386\n",
      "31 2023-02-01 -0.863858  0.129255\n",
      "32 2023-02-02 -0.553962  0.004868\n",
      "33 2023-02-03 -1.119200 -0.199731\n",
      "34 2023-02-04 -0.069282 -0.175992\n",
      "35 2023-02-05 -0.493963 -0.233847\n",
      "36 2023-02-06  0.223407 -0.150660\n",
      "37 2023-02-07 -0.054391 -0.133148\n",
      "38 2023-02-08  0.195787 -0.073318\n",
      "39 2023-02-09 -0.409736 -0.134505\n",
      "40 2023-02-10 -0.756678 -0.247657\n",
      "41 2023-02-11  1.684891  0.103792\n",
      "42 2023-02-12  1.277041  0.317148\n",
      "43 2023-02-13  0.351440  0.323384\n",
      "44 2023-02-14 -0.602443  0.155032\n",
      "45 2023-02-15 -0.473223  0.040792\n",
      "46 2023-02-16  0.226905  0.074634\n",
      "47 2023-02-17  0.447169  0.142372\n",
      "48 2023-02-18  0.428257  0.194354\n",
      "49 2023-02-19  1.282702  0.392244\n"
     ]
    }
   ],
   "source": [
    "import pandas as pd\n",
    "import numpy as np\n",
    "\n",
    "# Create a sample DataFrame\n",
    "data = {'Date': pd.date_range(start='2023-01-01', periods=50, freq='D'),\n",
    "        'Value': np.random.randn(50)}  # Generating random values\n",
    "df = pd.DataFrame(data)\n",
    "\n",
    "# Calculate the exponentially weighted moving average (EWMA) of the 'Value' column\n",
    "df['EWMA'] = df['Value'].ewm(span=10).mean()\n",
    "\n",
    "print(df)\n"
   ]
  },
  {
   "cell_type": "code",
   "execution_count": null,
   "id": "9a6905b6",
   "metadata": {},
   "outputs": [],
   "source": [
    "# 'EWMA' column contains the exponentially weighted moving average\n",
    "#of the 'Value' column with a span of 10. The EWMA provides a smoothed\n",
    "#representation of the data that is sensitive to recent changes, making \n",
    "#it useful for detecting trends and patterns in noisy time series data"
   ]
  },
  {
   "cell_type": "code",
   "execution_count": 73,
   "id": "27c18025",
   "metadata": {},
   "outputs": [
    {
     "ename": "TypeError",
     "evalue": "NDFrame.last() missing 1 required positional argument: 'offset'",
     "output_type": "error",
     "traceback": [
      "\u001b[1;31m---------------------------------------------------------------------------\u001b[0m",
      "\u001b[1;31mTypeError\u001b[0m                                 Traceback (most recent call last)",
      "Cell \u001b[1;32mIn[73], line 10\u001b[0m\n\u001b[0;32m      7\u001b[0m df \u001b[38;5;241m=\u001b[39m pd\u001b[38;5;241m.\u001b[39mDataFrame(data)\n\u001b[0;32m      9\u001b[0m \u001b[38;5;66;03m# Extract the last value from the 'Value' column\u001b[39;00m\n\u001b[1;32m---> 10\u001b[0m last_value \u001b[38;5;241m=\u001b[39m \u001b[43mdf\u001b[49m\u001b[43m[\u001b[49m\u001b[38;5;124;43m'\u001b[39;49m\u001b[38;5;124;43mValue\u001b[39;49m\u001b[38;5;124;43m'\u001b[39;49m\u001b[43m]\u001b[49m\u001b[38;5;241;43m.\u001b[39;49m\u001b[43mlast\u001b[49m\u001b[43m(\u001b[49m\u001b[43m)\u001b[49m\n\u001b[0;32m     12\u001b[0m \u001b[38;5;28mprint\u001b[39m(\u001b[38;5;124m\"\u001b[39m\u001b[38;5;124mLast Value:\u001b[39m\u001b[38;5;124m\"\u001b[39m, last_value)\n",
      "\u001b[1;31mTypeError\u001b[0m: NDFrame.last() missing 1 required positional argument: 'offset'"
     ]
    }
   ],
   "source": [
    "read_csv(): Read a CSV file into a DataFrame.\n",
    "head(): Display the first n rows of a DataFrame.\n",
    "tail(): Display the last n rows of a DataFrame.\n",
    "info(): Display a summary of a DataFrame's structure.\n",
    "describe(): Generate descriptive statistics of a DataFrame.\n",
    "shape: Return the dimensions (rows and columns) of a DataFrame.\n",
    "columns: Access the column labels of a DataFrame.\n",
    "dtypes: Display the data types of columns in a DataFrame.\n",
    "isnull(): Check for missing values in a DataFrame.\n",
    "dropna(): Drop rows with missing values.\n",
    "fillna(): Fill missing values with a specified value or method.\n",
    "groupby(): Group data based on a specified column.\n",
    "agg(): Apply aggregation functions to grouped data.\n",
    "sort_values(): Sort a DataFrame based on one or more columns.\n",
    "apply(): Apply a function to rows or columns of a DataFrame.\n",
    "pivot_table(): Create a pivot table from data.\n",
    "merge(): Merge two DataFrames based on a common column.\n",
    "concat(): Concatenate DataFrames along rows or columns.\n",
    "value_counts(): Count occurrences of unique values in a Series.\n",
    "crosstab(): Create a cross-tabulation table.\n",
    "unique(): Get unique values from a Series.\n",
    "nunique(): Count the number of unique values in a Series.\n",
    "map(): Apply a mapping function to a Series.\n",
    "str.replace(): Replace substrings in string columns.\n",
    "str.extract(): Extract substrings from string columns.\n",
    "str.len(): Calculate the length of strings in a Series.\n",
    "str.lower(): Convert strings to lowercase.\n",
    "str.upper(): Convert strings to uppercase.\n",
    "str.strip(): Remove leading and trailing whitespace from strings.\n",
    "str.contains(): Check if a substring is present in each value.\n",
    "astype(): Convert data types of columns in a DataFrame.\n",
    "to_datetime(): Convert a column to datetime format.\n",
    "drop(): Drop specified columns or rows from a DataFrame.\n",
    "rename(): Rename columns or index labels.\n",
    "duplicated(): Check for duplicate rows in a DataFrame.\n",
    "drop_duplicates(): Remove duplicate rows from a DataFrame.\n",
    "iloc[]: Select data by integer location.\n",
    "loc[]: Select data by label.\n",
    "set_index(): Set a specific column as the index of a DataFrame.\n",
    "reset_index(): Reset the index of a DataFrame.\n",
    "rolling(): Calculate rolling statistics for time series data.\n",
    "shift(): Shift data in a time series.\n",
    "resample(): Resample time series data.\n",
    "cumsum(): Calculate the cumulative sum of values.\n",
    "cumprod(): Calculate the cumulative product of values.\n",
    "pct_change(): Calculate the percentage change of values.\n",
    "fillna(): Fill missing values in a DataFrame or Series.\n",
    "dropna(): Remove missing values from a DataFrame or Series.\n",
    "pivot_table(): Create a pivot table from data.\n",
    "melt(): Convert wide data to long format.\n",
    "unstack(): Unstack a multi-level index.\n",
    "stack(): Stack data to create a multi-level index.\n",
    "groupby(): Group data by one or more columns.\n",
    "apply(): Apply a function to rows or columns of a DataFrame.\n",
    "mean(): Calculate the mean of values in a DataFrame or Series.\n",
    "sum(): Calculate the sum of values in a DataFrame or Series.\n",
    "min(): Calculate the minimum value in a DataFrame or Series.\n",
    "max(): Calculate the maximum value in a DataFrame or Series.\n",
    "median(): Calculate the median of values in a DataFrame or Series.\n",
    "std(): Calculate the standard deviation of values.\n",
    "var(): Calculate the variance of values in a DataFrame or Series.\n",
    "quantile(): Calculate quantiles of values in a DataFrame or Series.\n",
    "cumsum(): Calculate the cumulative sum of values.\n",
    "cumprod(): Calculate the cumulative product of values.\n",
    "cummax(): Calculate the cumulative maximum of values.\n",
    "cummin(): Calculate the cumulative minimum of values.\n",
    "count(): Count non-null values in a DataFrame or Series.\n",
    "idxmax(): Return the index of the maximum value.\n",
    "idxmin(): Return the index of the minimum value.\n",
    "idxmax(): Return the index of the maximum value.\n",
    "idxmin(): Return the index of the minimum value.\n",
    "count(): Count non-null values in a DataFrame or Series.\n",
    "idxmax(): Return the index of the maximum value.\n",
    "idxmin(): Return the index of the minimum value.\n",
    "fillna(): Fill missing values in a DataFrame or Series.\n",
    "dropna(): Remove missing values from a DataFrame or Series.\n",
    "pivot_table(): Create a pivot table from data.\n",
    "melt(): Convert wide data to long format.\n",
    "unstack(): Unstack a multi-level index.\n",
    "stack(): Stack data to create a multi-level index.\n",
    "groupby(): Group data by one or more columns.\n",
    "apply(): Apply a function to rows or columns of a DataFrame.\n",
    "mean(): Calculate the mean of values in a DataFrame or Series.\n",
    "sum(): Calculate the sum of values in a DataFrame or Series.\n",
    "min(): Calculate the minimum value in a DataFrame or Series.\n",
    "max(): Calculate the maximum value in a DataFrame or Series.\n",
    "median(): Calculate the median of values in a DataFrame or Series.\n",
    "std(): Calculate the standard deviation of values.\n",
    "var(): Calculate the variance of values in a DataFrame or Series.\n",
    "quantile(): Calculate quantiles of values in a DataFrame or Series.\n",
    "cumsum(): Calculate the cumulative sum of values.\n",
    "cumprod(): Calculate the cumulative product of values.\n",
    "cummax(): Calculate the cumulative maximum of values.\n",
    "cummin(): Calculate the cumulative minimum of values.\n",
    "count(): Count non-null values in a DataFrame or Series.\n",
    "idxmax(): Return the index of the maximum value.\n",
    "idxmin(): Return the index of the minimum value.\n",
    "fillna(): Fill missing values in a DataFrame or Series.\n",
    "dropna(): Remove missing values from a DataFrame or Series.\n",
    "pivot_table(): Create a pivot table from data.\n",
    "melt(): Convert wide data to long format.\n",
    "unstack(): Unstack a multi-level index.\n",
    "stack(): Stack data to create a multi-level index.\n",
    "groupby(): Group data by one or more columns.\n",
    "apply(): Apply a function to rows or columns of a DataFrame.\n",
    "mean(): Calculate the mean of values in a DataFrame or Series.\n",
    "sum(): Calculate the sum of values in a DataFrame or Series.\n",
    "min(): Calculate the minimum value in a DataFrame or Series.\n",
    "max(): Calculate the maximum value in a DataFrame or Series.\n",
    "median(): Calculate the median of values in a DataFrame or Series.\n",
    "std(): Calculate the standard deviation of values.\n",
    "var(): Calculate the variance of values in a DataFrame or Series.\n",
    "quantile(): Calculate quantiles of values in a DataFrame or Series.\n",
    "cumsum(): Calculate the cumulative sum of values.\n",
    "cumprod(): Calculate the cumulative product of values.\n",
    "cummax(): Calculate the cumulative maximum of values.\n",
    "cummin(): Calculate the cumulative minimum of values.\n",
    "count(): Count non-null values in a DataFrame or Series.\n",
    "idxmax(): Return the index of the maximum value.\n",
    "idxmin(): Return the index of the minimum value.\n",
    "This list covers a wide range of pandas functions that are commonly used for data manipulation and analysis. Keep in mind that pandas offers many more functions and methods for different tasks, so exploring the official pandas documentation can provide further insights into pandas' capabilities.\n",
    "\n",
    "\n",
    "\n",
    "\n",
    "\n",
    "\n"
   ]
  },
  {
   "cell_type": "code",
   "execution_count": null,
   "id": "56b6d4bc",
   "metadata": {},
   "outputs": [],
   "source": []
  }
 ],
 "metadata": {
  "kernelspec": {
   "display_name": "Python 3 (ipykernel)",
   "language": "python",
   "name": "python3"
  },
  "language_info": {
   "codemirror_mode": {
    "name": "ipython",
    "version": 3
   },
   "file_extension": ".py",
   "mimetype": "text/x-python",
   "name": "python",
   "nbconvert_exporter": "python",
   "pygments_lexer": "ipython3",
   "version": "3.10.9"
  }
 },
 "nbformat": 4,
 "nbformat_minor": 5
}
